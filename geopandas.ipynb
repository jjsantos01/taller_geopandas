{
 "cells": [
  {
   "cell_type": "markdown",
   "metadata": {},
   "source": [
    "# Introducción a GeoPandas\n",
    "\n",
    "> _Preparado por: **Juan Javier Santos Ochoa** ([LNPP](https://www.lnpp.mx/))_. \n",
    "> Contacto: [web](https://www.jjsantoso.com/), [LinkedIn](https://www.linkedin.com/in/jsantosochoa/), [Twitter](https://twitter.com/jjsantoso)\n",
    "\n",
    "<img src=\"imagenes/geopandas.jpg\" style=\"width: 800px;\"/>\n",
    "\n",
    "[GeoPandas](http://geopandas.org/index.html) es una libreria de Python que hace muy fácil trabajar con datos geoespaciales. \n",
    "GeoPandas extiende las funciones de la popular librería [Pandas](https://pandas.pydata.org/) para permitir hacer operaciones con datos geométricos. Para ello, usa algunas librerías que ya existen en Python: para hacer operaciones geométricas como [shapely](http://toblerity.github.io/shapely), para la lectura de archivos usa [Fiona](http://toblerity.org/fiona/README.html) y para graficar usa [Matplotlib](https://matplotlib.org/).\n",
    "\n",
    "**¿Para qué usar GeoPandas?**\n",
    "* Para análisis exploratorio de datos geoespaciales\n",
    "* Para hacer operaciones vectoriales de objetos geoespaciales\n",
    "* Hacer visualizaciones sencillas de datos goegráficos\n"
   ]
  },
  {
   "cell_type": "markdown",
   "metadata": {},
   "source": [
    "## Instalación\n",
    "\n",
    "Para esta sesión usaremos la versión 0.5.0 de GeoPandas. Asumo que tiene instalada la distribución [Anaconda](https://www.anaconda.com/download/).\n",
    "\n",
    "Para instalarlo vamos a la terminal de comandos de la computadora y escribimos:\n",
    "\n",
    "```terminal\n",
    "conda install geopandas\n",
    "```\n",
    "\n",
    "Les mostrará una lista de paquetes que se instalarán, también los paquetes que serán actualizados y los que serán rebajados. Les pedirá que acepten presionando `y`+`enter`."
   ]
  },
  {
   "cell_type": "markdown",
   "metadata": {},
   "source": [
    "## Importando la librería"
   ]
  },
  {
   "cell_type": "code",
   "execution_count": null,
   "metadata": {},
   "outputs": [],
   "source": [
    "import geopandas as gpd\n",
    "import sys\n",
    "print(gpd.__name__, gpd.__version__)\n",
    "print(sys.version)\n",
    "%matplotlib inline"
   ]
  },
  {
   "cell_type": "markdown",
   "metadata": {},
   "source": [
    "> `%matplotlib inline` es una magic function para ver las gráficas que generamos dentro del notebook"
   ]
  },
  {
   "cell_type": "markdown",
   "metadata": {},
   "source": [
    "# Estructuras de datos\n",
    "\n",
    "GeoPandas tiene dos principales estructuras de datos que son los `GeoDataFrames` y `GeoSeries`, que son subclases de los `DataFrames` y `Series` de Pandas.\n",
    "\n",
    "## GeoSerie\n",
    "\n",
    "Una GeoSerie es un vector donde cada entrada es un conjunto de formas geométricas (_shapes_) correspondiente a una observación.\n",
    "\n",
    "Una entrada puede consistir de solo una forma (como el polígono para un estado) o de varias formas que son una sola observación (como un conjunto de islas que tiene varios polígonos).\n",
    "\n",
    "GeoPandas tiene tres tipos básicas de formas geométricas:\n",
    "* **Puntos/ Multipuntos**: Un punto es un conjunto de exactamente una coordenada. Una colección de puntos es un objeto Multipunto.\n",
    "\n",
    "    * Un punto lucirá en una GeoSerie como un obejto `Point(x,y)` donde `x` y `y` son las coordenadas. \n",
    "    \n",
    "* **Lineas/ Multilineas**: Una línea se definirá a partir de la unión de varios puntos definidos en una lista. El orden viene dado por la posición en la lista. \n",
    "\n",
    "    * En una GeoSerie una línea se verá como un objeto: `LineString([(x1, y1), (x2, y2)])`\n",
    "  \n",
    "* **Polígonos/ Multipolígonos**: Un polígono igualmente es una colleción de puntos en una lista, como una línea, con la diferencia de que debe ser cerrado. Implícitamente asume que el último punto de la lista se une con el primero. Un polígono también puede tener \"huecos\".\n",
    "\n",
    "    * En una GeoSerie un polígono se vera como un objeto: `Polygon([(0, 0), (1, 1), (1, 0)])`\n",
    "    \n",
    "## GeoDataFrame\n",
    "\n",
    "Es una estructura tabular, como un _DataFrame_ de Pandas, que contiene una _GeoSerie_. La característica más importante de un _GeoDataFrame_ es que tiene una columna _GeoSerie_ que tiene un caracter especial. Esta columna es referida como la \"geometría\" (_geometry_) del `gdf`.\n",
    "\n",
    "Cuando se aplica un método espacial a un `gdf`, este se aplica sobre la _geometry_\n",
    "\n",
    "Se puede acceder a la columna \"_geometry_\", la variable puede llamarse diferente, a través del atributo `.geometry` ( gdf.geometry), y se puede encontrar el nombre de la columna que es la _geometry_ escribiendo `gdf.geometry.name`\n",
    "\n",
    "Un `gdf` puede tener varias _GeoSeries_ pero solo una será la `geometry` activa a la vez. Para establecer la columna que es la `geometry` se usa el método `.set_geometry()`"
   ]
  },
  {
   "cell_type": "markdown",
   "metadata": {},
   "source": [
    "## Ejemplo\n",
    "\n",
    "Importaremos un conjunto de datos que viene incluído en GeoPandas. Este contiene los países del mundo y algunos datos básicos como la población y el continente al que pertenecen.\n",
    "\n",
    "En este `gdf` la geometry es una GeoSerie que se llama \"geometry\""
   ]
  },
  {
   "cell_type": "code",
   "execution_count": null,
   "metadata": {
    "scrolled": true
   },
   "outputs": [],
   "source": [
    "world = gpd.read_file(gpd.datasets.get_path('naturalearth_lowres'))\n",
    "world"
   ]
  },
  {
   "cell_type": "code",
   "execution_count": null,
   "metadata": {},
   "outputs": [],
   "source": [
    "# Comprobamos es un GeoDataFrame\n",
    "type(world)"
   ]
  },
  {
   "cell_type": "code",
   "execution_count": null,
   "metadata": {},
   "outputs": [],
   "source": [
    "# comprobamos el nombre de la geometry\n",
    "print(world.geometry.name)"
   ]
  },
  {
   "cell_type": "code",
   "execution_count": null,
   "metadata": {},
   "outputs": [],
   "source": [
    "# Comprobamos que es una GeoSerie\n",
    "type(world['geometry'])"
   ]
  },
  {
   "cell_type": "code",
   "execution_count": null,
   "metadata": {},
   "outputs": [],
   "source": [
    "# Veamos cómo se ve!!\n",
    "print('Hola mundo!',\"\\U0001F632\")\n",
    "world.plot()"
   ]
  },
  {
   "cell_type": "markdown",
   "metadata": {},
   "source": [
    "# Leyendo archivos espaciales\n",
    "\n",
    "GeoPandas puede abrir varios tipos de archivos de formato geoespacial, sin embargo, en esta sesión usaremos _shapefiles_ (.shp), que son un tipo de archivo muy popular. Otros tipos de archivos populares es `GeoJson`.\n",
    "\n",
    "Usaremos un _shape_ de todos los municipios de México. El mapa de México proveniente del Marco Geoestadístico Nacional de INEGI lo pueden encontrar [aquí](https://www.inegi.org.mx/temas/mg/default.html#Descargas).\n",
    "\n",
    "\n"
   ]
  },
  {
   "cell_type": "markdown",
   "metadata": {},
   "source": [
    "## Desde un shapefile"
   ]
  },
  {
   "cell_type": "code",
   "execution_count": null,
   "metadata": {
    "scrolled": true
   },
   "outputs": [],
   "source": [
    "## Leemos el archivo\n",
    "mx = gpd.read_file('datos/mapa_mexico/Division_Municipal_Mexico_2010.shp')\n",
    "mx.head()"
   ]
  },
  {
   "cell_type": "code",
   "execution_count": null,
   "metadata": {},
   "outputs": [],
   "source": [
    "mx.plot()"
   ]
  },
  {
   "cell_type": "code",
   "execution_count": null,
   "metadata": {},
   "outputs": [],
   "source": [
    "# Establecemos el índice\n",
    "mx.set_index('CLAVE', inplace=True)\n",
    "# Revisamos el GDF\n",
    "mx.loc[['09004', '09003']].plot()"
   ]
  },
  {
   "cell_type": "markdown",
   "metadata": {},
   "source": [
    "## Sistema de Coordenadas Geográficas\n",
    "\n",
    "Un [Sistema de coordenadas geográficas](http://desktop.arcgis.com/es/arcmap/10.3/guide-books/map-projections/about-geographic-coordinate-systems.htm) (CRS) define un marco para identificar ubicaciones en un globo 3D. Estos se componen de varios parámetros que definen la posición de las coordenadas con respecto a la tierra. \n",
    "\n",
    "Existen muchos CRS y es muy importante que cuando trabajemos con datos geográficos estas coordenadas estén definidas, y de preferencia que las sistemas de coordinados de todas nuestras bases de datos coincida. Escoger un CRS depende de lo que se quiera hacer y de la escala, entre otros aspectos.\n",
    "\n",
    "Existen también los sistemas de proyección geográfica, que definen la forma como transformamos las coordenadas geográficas de una esfera/elipse a un plano 2d.\n",
    "\n",
    "En `GeoPandas` podemos consultar el sistema de coordenadas geográficas de un `GeoDataFrame` con el atributo `.crs`"
   ]
  },
  {
   "cell_type": "code",
   "execution_count": null,
   "metadata": {},
   "outputs": [],
   "source": [
    "print(world.crs, mx.crs)"
   ]
  },
  {
   "cell_type": "markdown",
   "metadata": {},
   "source": [
    "## Puntos desde un csv\n",
    "\n",
    "Un '.csv' no se puede importar directamente como un GeoDataFrame, pero podemos crear primero un DataFrame y crear una columna geometry usando la función `gpd.points_from_xy()`"
   ]
  },
  {
   "cell_type": "code",
   "execution_count": null,
   "metadata": {},
   "outputs": [],
   "source": [
    "from shapely.geometry import Polygon"
   ]
  },
  {
   "cell_type": "code",
   "execution_count": null,
   "metadata": {
    "scrolled": true
   },
   "outputs": [],
   "source": [
    "import pandas as pd\n",
    "# leemos CSV con PANDAS\n",
    "df_est = pd.read_csv('datos/estaciones.csv')\n",
    "# creamos GeoDataFrame a partir de DataFrame\n",
    "estaciones =  gpd.GeoDataFrame(df_est, geometry=gpd.points_from_xy(df_est['longitud'], df_est['latitud']), crs='epsg:4326')\n",
    "estaciones.head()"
   ]
  },
  {
   "cell_type": "code",
   "execution_count": null,
   "metadata": {},
   "outputs": [],
   "source": [
    "# Graficamos\n",
    "estaciones.plot()"
   ]
  },
  {
   "cell_type": "markdown",
   "metadata": {},
   "source": [
    "## Reproyectar\n",
    "\n",
    "Para cambiar el sistema de proyecciones de un GeoDataFrame usamos el método `.to_crs()`. Hay varias formas de especificar el nuevo sistema de coordenadas, en el siguiente ejemplo usamos el número epsg 3395 (Mercator) y luego definimos la Azimuthal Equidistant Pojection."
   ]
  },
  {
   "cell_type": "code",
   "execution_count": null,
   "metadata": {},
   "outputs": [],
   "source": [
    "# En windows parece haber un problema de instalación que no permite reproyectar. \n",
    "# La solución es incluir una variable de ambiente con la carpeta\n",
    "# Library/share de la instalación de Python\n",
    "import os\n",
    "anaconda_dir = gpd.__file__.split('lib')[0]\n",
    "os.environ[\"PROJ_LIB\"] = os.path.join(anaconda_dir, 'Library/share')"
   ]
  },
  {
   "cell_type": "code",
   "execution_count": null,
   "metadata": {},
   "outputs": [],
   "source": [
    "world.to_crs(epsg=3395).head()"
   ]
  },
  {
   "cell_type": "code",
   "execution_count": null,
   "metadata": {},
   "outputs": [],
   "source": [
    "world.to_crs(epsg=3395).plot()"
   ]
  },
  {
   "cell_type": "code",
   "execution_count": null,
   "metadata": {
    "scrolled": true
   },
   "outputs": [],
   "source": [
    "world.to_crs(crs='+proj=aeqd +lat_0=60 +lon_0=0 +x_0=0').plot()"
   ]
  },
  {
   "cell_type": "code",
   "execution_count": null,
   "metadata": {},
   "outputs": [],
   "source": [
    "mx = mx.to_crs(epsg=4485)\n",
    "mx.plot()"
   ]
  },
  {
   "cell_type": "code",
   "execution_count": null,
   "metadata": {},
   "outputs": [],
   "source": [
    "estaciones = estaciones.to_crs(epsg=4485)\n",
    "estaciones.plot()"
   ]
  },
  {
   "cell_type": "markdown",
   "metadata": {},
   "source": [
    "# Seleccionando datos\n",
    "\n",
    "Podemos usar los métodos para seleccionar observaciones disponibles para un `DataFrame`, como `.iloc[]`, `.loc[]`, `.query()`."
   ]
  },
  {
   "cell_type": "code",
   "execution_count": null,
   "metadata": {
    "scrolled": true
   },
   "outputs": [],
   "source": [
    "# usamos .loc para seleccionar las observaciones con los índices\n",
    "mx.loc[['09002','09011']].plot()"
   ]
  },
  {
   "cell_type": "code",
   "execution_count": null,
   "metadata": {
    "scrolled": false
   },
   "outputs": [],
   "source": [
    "mx.query('CVE_EDO==\"09\"').plot()"
   ]
  },
  {
   "cell_type": "markdown",
   "metadata": {},
   "source": [
    "## Tarea en clase\n",
    "\n",
    "Muestre un mapa con todos los municipios del estado de Tlaxcala y Puebla"
   ]
  },
  {
   "cell_type": "code",
   "execution_count": null,
   "metadata": {},
   "outputs": [],
   "source": []
  },
  {
   "cell_type": "markdown",
   "metadata": {},
   "source": [
    "# Operaciones geométricas\n",
    "\n",
    "Las `GeoSeries` y `GeoDataFrames` tienen algunos atributos y métodos para hacer operaciones geométricas básicas."
   ]
  },
  {
   "cell_type": "markdown",
   "metadata": {},
   "source": [
    "## Centroides\n",
    "\n",
    "Es el punto medio geográfico de una entidad espacial.\n"
   ]
  },
  {
   "cell_type": "code",
   "execution_count": null,
   "metadata": {
    "scrolled": false
   },
   "outputs": [],
   "source": [
    "centroides = mx.centroid\n",
    "centroides.head()"
   ]
  },
  {
   "cell_type": "code",
   "execution_count": null,
   "metadata": {},
   "outputs": [],
   "source": [
    "centroides.plot(c='red', markersize=0.5)"
   ]
  },
  {
   "cell_type": "markdown",
   "metadata": {},
   "source": [
    "## Bordes\n",
    "\n",
    "* Obtiene los bordes de los polígonos, pero no su interior"
   ]
  },
  {
   "cell_type": "code",
   "execution_count": null,
   "metadata": {
    "scrolled": false
   },
   "outputs": [],
   "source": [
    "bordes = mx.boundary\n",
    "bordes.head()"
   ]
  },
  {
   "cell_type": "code",
   "execution_count": null,
   "metadata": {
    "scrolled": true
   },
   "outputs": [],
   "source": [
    "bordes.plot(color='green', lw=0.5, figsize=(8, 10))"
   ]
  },
  {
   "cell_type": "markdown",
   "metadata": {},
   "source": [
    "## Buffer\n",
    "un buffer es el área que está a determinada ditancia de un punto. La unidad de medida de la distancia viene dada por la proyección geográfica."
   ]
  },
  {
   "cell_type": "code",
   "execution_count": null,
   "metadata": {
    "scrolled": true
   },
   "outputs": [],
   "source": [
    "# defino un nuevo GDF que se llama cdmx\n",
    "cdmx = mx.query('CVE_EDO==\"09\"').reset_index()\n",
    "# Calculo el buffer\n",
    "buff = estaciones.buffer(2000)\n",
    "buff.head()"
   ]
  },
  {
   "cell_type": "code",
   "execution_count": null,
   "metadata": {},
   "outputs": [],
   "source": [
    "# Grafico el buffer, o asigno a la variable ax\n",
    "ax = buff.plot(color='blue')"
   ]
  },
  {
   "cell_type": "code",
   "execution_count": null,
   "metadata": {},
   "outputs": [],
   "source": [
    "## CENTROIDE CON SU BUFFER y BORDES\n",
    "ax = buff.plot(color='blue')\n",
    "estaciones.plot(color='red', ax=ax)\n",
    "cdmx.boundary.plot(color='green', ax=ax)"
   ]
  },
  {
   "cell_type": "markdown",
   "metadata": {},
   "source": [
    "## Unary union\n",
    "\n",
    "Realiza la unión de todos los elementos de un `GeoDataFrame`"
   ]
  },
  {
   "cell_type": "code",
   "execution_count": null,
   "metadata": {
    "scrolled": true
   },
   "outputs": [],
   "source": [
    "cdmx_union = cdmx.unary_union\n",
    "cdmx_union"
   ]
  },
  {
   "cell_type": "code",
   "execution_count": null,
   "metadata": {},
   "outputs": [],
   "source": [
    "type(cdmx_union)"
   ]
  },
  {
   "cell_type": "markdown",
   "metadata": {},
   "source": [
    "## Intersección"
   ]
  },
  {
   "cell_type": "code",
   "execution_count": null,
   "metadata": {},
   "outputs": [],
   "source": [
    "buff.unary_union"
   ]
  },
  {
   "cell_type": "code",
   "execution_count": null,
   "metadata": {
    "scrolled": true
   },
   "outputs": [],
   "source": [
    "## vamos a intersectar el GDF de la CDMX con el buffer que calculamos\n",
    "cdmx.intersection(buff.unary_union).plot()"
   ]
  },
  {
   "cell_type": "code",
   "execution_count": null,
   "metadata": {},
   "outputs": [],
   "source": []
  },
  {
   "cell_type": "markdown",
   "metadata": {},
   "source": [
    "## Diferencia"
   ]
  },
  {
   "cell_type": "code",
   "execution_count": null,
   "metadata": {
    "scrolled": true
   },
   "outputs": [],
   "source": [
    "## vamos a calcular la diferencia del GDF de la CDMX con el buffer que calculamos. \n",
    "#Esto es, lo que nos quedaría si a la CDMX le quitamos el área de los buffers\n",
    "diferencia = cdmx.difference(buff.unary_union)\n",
    "diferencia"
   ]
  },
  {
   "cell_type": "code",
   "execution_count": null,
   "metadata": {},
   "outputs": [],
   "source": [
    "diferencia.loc[~diferencia.is_empty].plot()"
   ]
  },
  {
   "cell_type": "markdown",
   "metadata": {},
   "source": [
    "## Disolver\n",
    "\n",
    "Realiza la unión de las entidades según el valor de alguna variable."
   ]
  },
  {
   "cell_type": "code",
   "execution_count": null,
   "metadata": {},
   "outputs": [],
   "source": [
    "estados = mx.dissolve(by='CVE_EDO')\n",
    "estados.head()"
   ]
  },
  {
   "cell_type": "code",
   "execution_count": null,
   "metadata": {
    "scrolled": true
   },
   "outputs": [],
   "source": [
    "estados.plot()"
   ]
  },
  {
   "cell_type": "markdown",
   "metadata": {},
   "source": [
    "## Contención\n",
    "\n",
    "Sirve para verificar si los elementos de una `GeoSerie` contienen un punto u otra forma espacial."
   ]
  },
  {
   "cell_type": "code",
   "execution_count": null,
   "metadata": {
    "scrolled": true
   },
   "outputs": [],
   "source": [
    "contiene = cdmx.contains(estaciones.geometry.iloc[0])\n",
    "contiene"
   ]
  },
  {
   "cell_type": "code",
   "execution_count": null,
   "metadata": {},
   "outputs": [],
   "source": [
    "cdmx.loc[contiene]"
   ]
  },
  {
   "cell_type": "code",
   "execution_count": null,
   "metadata": {},
   "outputs": [],
   "source": []
  },
  {
   "cell_type": "markdown",
   "metadata": {},
   "source": [
    "## Tarea en Clase\n",
    "\n",
    "Selecciones los municipios del Estado de México y guárdelos en un GeoDataframe que se llame edomex\n",
    "\n",
    "* Grafique los bordes de los municipios de la CDMX y los del estado de México. Use un color distinto para cada estado.\n",
    "* Grafique los centroides de los municipios de la CDMX y los del estado de México. Use un color distinto para cada estado."
   ]
  },
  {
   "cell_type": "code",
   "execution_count": null,
   "metadata": {},
   "outputs": [],
   "source": []
  },
  {
   "cell_type": "markdown",
   "metadata": {},
   "source": [
    "# Guardando información\n",
    "\n",
    "Los GeoDataFrames que generamos los podemos guardar como shapefiles:"
   ]
  },
  {
   "cell_type": "code",
   "execution_count": null,
   "metadata": {},
   "outputs": [],
   "source": [
    "estados.to_file('datos/estados')"
   ]
  },
  {
   "cell_type": "markdown",
   "metadata": {},
   "source": [
    "# Mapas Coropléticos\n",
    "\n",
    "Podemos hacer algunos mapas básicos con GeoPandas."
   ]
  },
  {
   "cell_type": "code",
   "execution_count": null,
   "metadata": {},
   "outputs": [],
   "source": [
    "estados_pib = gpd.read_file('datos/estados_pib/')\n",
    "estados_pib.head()"
   ]
  },
  {
   "cell_type": "code",
   "execution_count": null,
   "metadata": {
    "scrolled": false
   },
   "outputs": [],
   "source": [
    "# El color representa el valor de la variable PIB_pc\n",
    "ax = estados_pib.plot(column='pib_pc', cmap='OrRd', scheme='Quantiles', legend=True,\n",
    "                           linewidth=1.5, edgecolor='k', k=4)\n",
    "ax.set_title('PIB per cápita, estatal, 2016')\n",
    "ax.axis('off')\n",
    "leyenda = ax.get_legend()\n",
    "leyenda.set_bbox_to_anchor((.12, .4))\n",
    "leyenda.set_title('Intervalos')\n",
    "# Guardamos la figura\n",
    "ax.figure.savefig('graficas/mapa_estados.png', dpi=600, bbox_inches='tight')"
   ]
  },
  {
   "cell_type": "markdown",
   "metadata": {},
   "source": [
    "# Otras librerías\n",
    "Hay varias opciones para análizar y visualizar información geográfica en Python. Algunas recomendadas son:\n",
    "\n",
    "* Gráficas estáticas:\n",
    "    * [GeoPlot](https://residentmario.github.io/geoplot/index.html): Gráficas estáticas basadas en GeoPandas.\n",
    "    * [CartoPy](https://scitools.org.uk/cartopy/docs/latest/): Gráficas estáticas basadas en matplotlib.\n",
    "    * [Datashader](http://datashader.org/): permite graficar millones de datos en poco tiempo.\n",
    "* Gráficas dinámicas\n",
    "    * [Geoviews](http://geoviews.org/): Genera gráficas dinámicas usando como backend diferentes librerías (Bokeh, matplotlib).\n",
    "    * [Folium](http://python-visualization.github.io/folium/): Genera mapas interactivos dentro de Jupyter Notebooks.\n",
    "    * [Bokeh](https://bokeh.pydata.org/en/latest/docs/user_guide/geo.html): es una librería de visualización de gráficas interactivas con gran soporte para información geográfica. También se pueden hacer dashboards.\n",
    "    * [Ipyleaflet](https://github.com/jupyter-widgets/ipyleaflet): Genera mapas interactivos dentro de Jupyter Notebooks y se puede integrar con otros widgets.\n",
    "    \n",
    "    \n",
    "\n",
    "* Análisis Espacial y software GIS\n",
    "    * [Pysal](https://pysal.readthedocs.io/en/latest/): Librería especializada en análisis y modelos espaciales. También puede graficar.\n",
    "    * [OSMnx](https://github.com/gboeing/osmnx): Librería que permite descargar y visualizar datos de Open Street Map.\n",
    "    * [Pyqgis](https://docs.qgis.org/testing/en/docs/pyqgis_developer_cookbook/): Es la librería de Python que utiliza el conocido software GIS [Qgis](https://qgis.org/es/site/) de acceso libre.\n",
    "    * [cartoframes](https://carto.com/developers/cartoframes/examples/): Es la librería de Python creada por la compañia especializada en inteligencia espacial [Carto](https://carto.com/) para acceder a sus servicios.\n",
    "    * [ArcGis API](https://developers.arcgis.com/python/guide/overview-of-the-arcgis-api-for-python/): Es la librería de Python que utiliza el conocido software  [ArcGis](https://www.arcgis.com/home/index.html) de acceso con pago. Algunos de sus notebooks se pueden ejecutar en línea: [ejemplo](https://notebooks.esri.com/user/ttNgOgaHvpIgJfNFDvEfZdL9A/notebooks/samples/04_gis_analysts_data_scientists/finding_hospitals_closest_to_an_incident.ipynb)\n",
    "    \n",
    "# Referencias\n",
    "\n",
    "* [Documentación de Geopandas](https://geopandas.org/)\n",
    "* [Curso Automating GIS processes](https://automating-gis-processes.github.io/site/)\n"
   ]
  }
 ],
 "metadata": {
  "hide_input": false,
  "kernelspec": {
   "display_name": "Python 3",
   "language": "python",
   "name": "python3"
  },
  "language_info": {
   "codemirror_mode": {
    "name": "ipython",
    "version": 3
   },
   "file_extension": ".py",
   "mimetype": "text/x-python",
   "name": "python",
   "nbconvert_exporter": "python",
   "pygments_lexer": "ipython3",
   "version": "3.7.9"
  },
  "toc": {
   "base_numbering": 1,
   "nav_menu": {},
   "number_sections": true,
   "sideBar": true,
   "skip_h1_title": false,
   "title_cell": "Table of Contents",
   "title_sidebar": "Contents",
   "toc_cell": false,
   "toc_position": {},
   "toc_section_display": true,
   "toc_window_display": false
  },
  "varInspector": {
   "cols": {
    "lenName": 16,
    "lenType": 16,
    "lenVar": 40
   },
   "kernels_config": {
    "python": {
     "delete_cmd_postfix": "",
     "delete_cmd_prefix": "del ",
     "library": "var_list.py",
     "varRefreshCmd": "print(var_dic_list())"
    },
    "r": {
     "delete_cmd_postfix": ") ",
     "delete_cmd_prefix": "rm(",
     "library": "var_list.r",
     "varRefreshCmd": "cat(var_dic_list()) "
    }
   },
   "types_to_exclude": [
    "module",
    "function",
    "builtin_function_or_method",
    "instance",
    "_Feature"
   ],
   "window_display": false
  }
 },
 "nbformat": 4,
 "nbformat_minor": 2
}
